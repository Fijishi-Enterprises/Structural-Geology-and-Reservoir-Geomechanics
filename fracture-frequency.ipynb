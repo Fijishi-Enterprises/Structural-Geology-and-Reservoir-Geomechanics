{
 "cells": [
  {
   "cell_type": "markdown",
   "metadata": {},
   "source": [
    "# Plots of Fracture Frequency\n",
    "\n",
    "A simple histogram method for visualising fracture frequency with depth is illustrated in this notebook. \n",
    "\n",
    "The fracture data plotted here has not been corrected for geometric sample bias (Terzaghi, 1965). It therefore reflects the frequency of fractures intersected by the well and may not be an accurate reflection of the actual frequency of fractures in the reservoir. \n",
    "\n",
    "The quality and resolution of the image log from which the fractures were picked also impacts frequency data. Any plot of fracture frequency should include an indication of those intervals where data quality impairs the identification of fractures. For more information on log quality issues, refer to Wallis et al. (2020).  \n",
    "\n",
    "As rock mechanical properties affect the formation of fractures, it's useful to plot lithology and hydrothermal alateration along with the frequency data. There are many ways this could be achieved in Python and two are illustrated here. \n",
    "\n",
    "The [Seaborn plotting library](https://seaborn.pydata.org/) is used in this notebook. You may need to install this library (Hint: pip install seaborn). \n",
    "\n",
    "I set the default plotting style for seaborn in the cell below with sns.set_style(\"white\"). Seaborn can interfere with matplotlib defaults that generate errors when making stereonets with mplstereonet. Use the argument sns.reset_defaults() before making a plot with mplstereonet in the same notebook where seaborn has been used to make histograms. \n",
    "\n",
    "_Terzaghi, R. D., 1965, Sources of error in joint surveys: Geotechnique, v. 15, no. 3, p. 287-304._ \n",
    "\n",
    "_Wallis, I.C., Rowland, J. V. and Dempsey, D. E., Allan, G., Sidik, R., Martikno, R., McLean, K., Sihotang, M., Azis, M. and Baroek, M. 2020 (submitted) Approaches to imaging feedzone diversity with case studies from Sumatra, Indonesia, and the Taupō Volcanic Zone, New Zealand. New Zealand Geothermal Workshop: Waitangi, New Zealand._"
   ]
  },
  {
   "cell_type": "code",
   "execution_count": 48,
   "metadata": {},
   "outputs": [],
   "source": [
    "# Python 3.6\n",
    "import pandas as pd\n",
    "import numpy as np\n",
    "from matplotlib import pyplot as plt\n",
    "import mplstereonet\n",
    "import seaborn as sns\n",
    "sns.set_style(\"white\")"
   ]
  },
  {
   "cell_type": "markdown",
   "metadata": {},
   "source": [
    "## Import fracture data \n",
    "\n",
    "Pandas dataframes are a convenant method to handle tabular data in Python"
   ]
  },
  {
   "cell_type": "code",
   "execution_count": 49,
   "metadata": {},
   "outputs": [
    {
     "data": {
      "text/html": [
       "<div>\n",
       "<style scoped>\n",
       "    .dataframe tbody tr th:only-of-type {\n",
       "        vertical-align: middle;\n",
       "    }\n",
       "\n",
       "    .dataframe tbody tr th {\n",
       "        vertical-align: top;\n",
       "    }\n",
       "\n",
       "    .dataframe thead th {\n",
       "        text-align: right;\n",
       "    }\n",
       "</style>\n",
       "<table border=\"1\" class=\"dataframe\">\n",
       "  <thead>\n",
       "    <tr style=\"text-align: right;\">\n",
       "      <th></th>\n",
       "      <th>depth_mMDRF</th>\n",
       "      <th>dipazimuth_deg</th>\n",
       "      <th>dip_deg</th>\n",
       "      <th>type</th>\n",
       "    </tr>\n",
       "  </thead>\n",
       "  <tbody>\n",
       "    <tr>\n",
       "      <th>0</th>\n",
       "      <td>1224.559944</td>\n",
       "      <td>174.87238</td>\n",
       "      <td>78.54814</td>\n",
       "      <td>Cond_FTCC</td>\n",
       "    </tr>\n",
       "    <tr>\n",
       "      <th>1</th>\n",
       "      <td>1224.830215</td>\n",
       "      <td>171.09971</td>\n",
       "      <td>71.07558</td>\n",
       "      <td>Cond_FTCC</td>\n",
       "    </tr>\n",
       "    <tr>\n",
       "      <th>2</th>\n",
       "      <td>1225.193391</td>\n",
       "      <td>170.17670</td>\n",
       "      <td>70.48370</td>\n",
       "      <td>Cond_FTCC</td>\n",
       "    </tr>\n",
       "    <tr>\n",
       "      <th>3</th>\n",
       "      <td>1225.535453</td>\n",
       "      <td>168.36274</td>\n",
       "      <td>69.19910</td>\n",
       "      <td>Cond_FTCC</td>\n",
       "    </tr>\n",
       "    <tr>\n",
       "      <th>4</th>\n",
       "      <td>1226.063326</td>\n",
       "      <td>174.29375</td>\n",
       "      <td>72.06275</td>\n",
       "      <td>Cond_FTCC</td>\n",
       "    </tr>\n",
       "  </tbody>\n",
       "</table>\n",
       "</div>"
      ],
      "text/plain": [
       "   depth_mMDRF  dipazimuth_deg   dip_deg       type\n",
       "0  1224.559944       174.87238  78.54814  Cond_FTCC\n",
       "1  1224.830215       171.09971  71.07558  Cond_FTCC\n",
       "2  1225.193391       170.17670  70.48370  Cond_FTCC\n",
       "3  1225.535453       168.36274  69.19910  Cond_FTCC\n",
       "4  1226.063326       174.29375  72.06275  Cond_FTCC"
      ]
     },
     "execution_count": 49,
     "metadata": {},
     "output_type": "execute_result"
    }
   ],
   "source": [
    "dffractures = pd.read_csv(r'testdata-fractures.csv')\n",
    "dffractures.head()"
   ]
  },
  {
   "cell_type": "markdown",
   "metadata": {},
   "source": [
    "## Calculate the number of bins required\n",
    "\n",
    "Seaborn histograms require a bin argument that is an integer. Find the number of bins   the total length of the data by the desired bin length.\n",
    "\n",
    "Two methods are presented in the cell below to illustrate how to generate the number of bins: One where the shallowest and deepest fractures define the data length and another where the logged interval is used. \n",
    "\n",
    "In this case, both methods produce the same number of bins. However, if you have an interval at the top of the bottom of the log without fractures, then you would need to use Method 2. "
   ]
  },
  {
   "cell_type": "code",
   "execution_count": 50,
   "metadata": {},
   "outputs": [
    {
     "name": "stdout",
     "output_type": "stream",
     "text": [
      "93 93\n"
     ]
    }
   ],
   "source": [
    "# method using the shallowest and deepest fractures`\n",
    "bins_method1 = round((dffractures['depth_mMDRF'].max() # depth of the deepest fracture\n",
    "                     - dffractures['depth_mMDRF'].min()) # depth of the shallowest fracture\n",
    "                     / 10 ) # bin width\n",
    "\n",
    "# method using the top and bottom of the logged interval\n",
    "bins_method2 = round((2152 - 1219) / 10)\n",
    "\n",
    "print(bins_method1, bins_method2)"
   ]
  },
  {
   "cell_type": "markdown",
   "metadata": {},
   "source": [
    "## Plot a histogram of fracture frequency"
   ]
  },
  {
   "cell_type": "code",
   "execution_count": 57,
   "metadata": {},
   "outputs": [
    {
     "data": {
      "image/png": "[encoded data removed]",
      "text/plain": [
       "<Figure size 360x720 with 1 Axes>"
      ]
     },
     "metadata": {},
     "output_type": "display_data"
    }
   ],
   "source": [
    "f,(ax) = plt.subplots(1,1,figsize=(5,10),sharey=True)\n",
    "\n",
    "ax.hist(dffractures['depth_mMDRF'], \n",
    "        bins=bins_method1, \n",
    "        orientation=\"horizontal\", \n",
    "        color='k', \n",
    "        alpha=0.2)\n",
    "\n",
    "ax.set_ylim(2152,1219) # set to bottom and top of the logged interval\n",
    "ax.set_xlim(0,100)\n",
    "ax.xaxis.grid(alpha=0.5)\n",
    "ax.set_xlabel('Frequency [per 10 m]')\n",
    "ax.set_ylabel('Measured depth [mMDRF]')\n",
    "plt.show()"
   ]
  },
  {
   "cell_type": "markdown",
   "metadata": {},
   "source": [
    "## Add stratigraphic units to the histogram\n",
    "\n",
    "A stratigrapic sequence is made up below to illustrate the method. If you have stratigraphic or lithologic data in a csv table, this can be imported in the same way as the fractures were above. "
   ]
  },
  {
   "cell_type": "code",
   "execution_count": 52,
   "metadata": {},
   "outputs": [
    {
     "data": {
      "text/html": [
       "<div>\n",
       "<style scoped>\n",
       "    .dataframe tbody tr th:only-of-type {\n",
       "        vertical-align: middle;\n",
       "    }\n",
       "\n",
       "    .dataframe tbody tr th {\n",
       "        vertical-align: top;\n",
       "    }\n",
       "\n",
       "    .dataframe thead th {\n",
       "        text-align: right;\n",
       "    }\n",
       "</style>\n",
       "<table border=\"1\" class=\"dataframe\">\n",
       "  <thead>\n",
       "    <tr style=\"text-align: right;\">\n",
       "      <th></th>\n",
       "      <th>from</th>\n",
       "      <th>to</th>\n",
       "      <th>rocktype</th>\n",
       "    </tr>\n",
       "  </thead>\n",
       "  <tbody>\n",
       "    <tr>\n",
       "      <th>0</th>\n",
       "      <td>1219</td>\n",
       "      <td>1600</td>\n",
       "      <td>Some Rock</td>\n",
       "    </tr>\n",
       "    <tr>\n",
       "      <th>1</th>\n",
       "      <td>1600</td>\n",
       "      <td>2000</td>\n",
       "      <td>Another Rock</td>\n",
       "    </tr>\n",
       "    <tr>\n",
       "      <th>2</th>\n",
       "      <td>2000</td>\n",
       "      <td>2152</td>\n",
       "      <td>Almost Rock</td>\n",
       "    </tr>\n",
       "  </tbody>\n",
       "</table>\n",
       "</div>"
      ],
      "text/plain": [
       "   from    to      rocktype\n",
       "0  1219  1600     Some Rock\n",
       "1  1600  2000  Another Rock\n",
       "2  2000  2152   Almost Rock"
      ]
     },
     "execution_count": 52,
     "metadata": {},
     "output_type": "execute_result"
    }
   ],
   "source": [
    "data = {\n",
    "        'from': [1219, 1600, 2000], \n",
    "        'to': [1600, 2000, 2152], \n",
    "        'rocktype': ['Some Rock', 'Another Rock', 'Almost Rock'],\n",
    "       }\n",
    "\n",
    "dfstrat = pd.DataFrame(data=data)\n",
    "dfstrat"
   ]
  },
  {
   "cell_type": "code",
   "execution_count": 53,
   "metadata": {},
   "outputs": [
    {
     "data": {
      "image/png": "[encoded data removed]",
      "text/plain": [
       "<Figure size 360x720 with 1 Axes>"
      ]
     },
     "metadata": {},
     "output_type": "display_data"
    }
   ],
   "source": [
    "f,(ax) = plt.subplots(1,1,figsize=(5,10),sharey=True)\n",
    "\n",
    "ax.hist(dffractures['depth_mMDRF'], \n",
    "        bins=bins_method1, \n",
    "        orientation=\"horizontal\", \n",
    "        color='k', \n",
    "        alpha=0.2)\n",
    "\n",
    "# add a small tick mark at the lithology contacts\n",
    "ax.scatter(np.linspace(1,1,3), # (from this, to this, three values)\n",
    "           dfstrat['from'],\n",
    "           marker='_',\n",
    "           color='k')\n",
    "\n",
    "# add a dashed line at the contact\n",
    "ax.hlines(dfstrat['from'],\n",
    "          0,100,  # from, to, along the x axis\n",
    "          colors='k',\n",
    "          linestyles=':',\n",
    "          linewidth=2,\n",
    "          alpha=0.2)\n",
    "\n",
    "ax.set_ylim(2152,1219)\n",
    "ax.set_xlim(0,100)\n",
    "ax.xaxis.grid(alpha=0.5)\n",
    "ax.set_xlabel('Frequency [per 10 m]')\n",
    "ax.set_ylabel('Measured depth [mMDRF]')\n",
    "plt.show()"
   ]
  },
  {
   "cell_type": "markdown",
   "metadata": {},
   "source": [
    "## Highlighting a depth range\n",
    "\n",
    "You may wish to highlight a particuar depth range. In the example below, I've made up some feedzone depths and plotted them on the histogram."
   ]
  },
  {
   "cell_type": "code",
   "execution_count": 54,
   "metadata": {},
   "outputs": [
    {
     "data": {
      "image/png": "[encoded data removed]",
      "text/plain": [
       "<Figure size 360x720 with 1 Axes>"
      ]
     },
     "metadata": {},
     "output_type": "display_data"
    }
   ],
   "source": [
    "f,(ax) = plt.subplots(1,1,figsize=(5,10),sharey=True)\n",
    "\n",
    "ax.hist(dffractures['depth_mMDRF'], \n",
    "        bins=bins_method1, \n",
    "        orientation=\"horizontal\", \n",
    "        color='k', \n",
    "        alpha=0.2)\n",
    "\n",
    "ax.hlines(dfstrat['from'],\n",
    "          0,100,\n",
    "          colors='k', \n",
    "          linestyles=':', \n",
    "          linewidth=2,\n",
    "          alpha=0.2)\n",
    "\n",
    "feedzones = [(1400,1401),(1800,1850)]\n",
    "\n",
    "for top, bottom in feedzones:\n",
    "    ax.axhspan(top, bottom, color='r', alpha=.2)\n",
    "\n",
    "ax.set_ylim(2152,1219)\n",
    "ax.set_xlim(0,100)\n",
    "ax.xaxis.grid(alpha=0.5)\n",
    "ax.set_xlabel('Frequency [per 10 m]')\n",
    "ax.set_ylabel('Measured depth [mMDRF]')\n",
    "plt.show()"
   ]
  },
  {
   "cell_type": "code",
   "execution_count": null,
   "metadata": {},
   "outputs": [],
   "source": []
  }
 ],
 "metadata": {
  "kernelspec": {
   "display_name": "Python 3",
   "language": "python",
   "name": "python3"
  },
  "language_info": {
   "codemirror_mode": {
    "name": "ipython",
    "version": 3
   },
   "file_extension": ".py",
   "mimetype": "text/x-python",
   "name": "python",
   "nbconvert_exporter": "python",
   "pygments_lexer": "ipython3",
   "version": "3.7.7"
  }
 },
 "nbformat": 4,
 "nbformat_minor": 4
}
