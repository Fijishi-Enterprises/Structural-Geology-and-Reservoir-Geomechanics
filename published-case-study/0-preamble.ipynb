{
 "cells": [
  {
   "cell_type": "markdown",
   "metadata": {},
   "source": [
    "# Preamble\n",
    "\n",
    "These Juypter notebooks present the method and results included in:\n",
    "\n",
    "> Wallis, I.C., Rowland, J. V. and Dempsey, D. E., Allan, G., Sidik, R., Martikno, R., McLean, K., Sihotang, M., Azis, M. and Baroek, M. 2020 (submitted) Approaches to imaging feedzone diversity with case studies from Sumatra, Indonesia, and the Taupō Volcanic Zone, New Zealand. New Zealand Geothermal Workshop: Waitangi, New Zealand.\n",
    "\n",
    "Some theory is included but these notebooks but, as these notebooks are designed for a presentation, the theoretical elements presented are not exhaustive. \n",
    "\n",
    "The methods, code and results were generated during doctoral research undertaken by [Irene Wallis](https://www.cubicearth.nz/), which is supervised by [David Dempsey](https://sites.google.com/view/dempsey-research-group/home) and [Julie (JR) Rowland](http://www.science.auckland.ac.nz/people/profile/j-rowland)  and includes code/math contributions from [Evert Durán](https://unidirectory.auckland.ac.nz/profile/e-quintero). "
   ]
  },
  {
   "cell_type": "code",
   "execution_count": 1,
   "metadata": {},
   "outputs": [
    {
     "name": "stdout",
     "output_type": "stream",
     "text": [
      "author:\n",
      "Irene Wallis 2020-08-25\n",
      "\n",
      "\n",
      "requirements:\n",
      "CPython 3.7.7\n",
      "IPython 7.15.0\n",
      "\n",
      "watermark 2.0.2\n",
      "\n",
      "\n",
      "Git hash: 1ffa4cecb76a65396a06f285398f0755633784c3\n"
     ]
    }
   ],
   "source": [
    "%load_ext watermark\n",
    "\n",
    "print('author:')\n",
    "%watermark -a \"Irene Wallis\" -d\n",
    "\n",
    "print('\\n')\n",
    "print('requirements:')\n",
    "%watermark -v -p watermark \n",
    "\n",
    "print('\\n')\n",
    "%watermark -g"
   ]
  }
 ],
 "metadata": {
  "kernelspec": {
   "display_name": "Python 3",
   "language": "python",
   "name": "python3"
  },
  "language_info": {
   "codemirror_mode": {
    "name": "ipython",
    "version": 3
   },
   "file_extension": ".py",
   "mimetype": "text/x-python",
   "name": "python",
   "nbconvert_exporter": "python",
   "pygments_lexer": "ipython3",
   "version": "3.7.9"
  }
 },
 "nbformat": 4,
 "nbformat_minor": 4
}
