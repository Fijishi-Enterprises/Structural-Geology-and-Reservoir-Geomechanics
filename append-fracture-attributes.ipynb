{
 "cells": [
  {
   "cell_type": "markdown",
   "metadata": {},
   "source": [
    "# Append Attributes to Fractures\n",
    "\n",
    "Sometimes we see to either visualise or analyse fractures by some other attribute along the well path. This notebook illustrates a method for appending attributes to the fracture dataframe. \n",
    "\n",
    "This method only works where the category values which are being appended are unique. The first example uses the stratigraphy dataframe (dfstrat) which meets this condition. While the second example uses the mechanical stiffness dataframe (dfstifness) where 'Hard Rock' is repeated. In this second example, we need to temporarily replace the attributes so the method works. "
   ]
  },
  {
   "cell_type": "code",
   "execution_count": 20,
   "metadata": {},
   "outputs": [],
   "source": [
    "# Python version = 3.6\n",
    "import pandas as pd\n",
    "from matplotlib import pyplot as plt\n",
    "%matplotlib inline"
   ]
  },
  {
   "cell_type": "markdown",
   "metadata": {},
   "source": [
    "## Import fracture data as Pandas dataframe"
   ]
  },
  {
   "cell_type": "code",
   "execution_count": 21,
   "metadata": {},
   "outputs": [
    {
     "data": {
      "text/html": [
       "<div>\n",
       "<style scoped>\n",
       "    .dataframe tbody tr th:only-of-type {\n",
       "        vertical-align: middle;\n",
       "    }\n",
       "\n",
       "    .dataframe tbody tr th {\n",
       "        vertical-align: top;\n",
       "    }\n",
       "\n",
       "    .dataframe thead th {\n",
       "        text-align: right;\n",
       "    }\n",
       "</style>\n",
       "<table border=\"1\" class=\"dataframe\">\n",
       "  <thead>\n",
       "    <tr style=\"text-align: right;\">\n",
       "      <th></th>\n",
       "      <th>depth_mMDRF</th>\n",
       "      <th>dipazimuth_deg</th>\n",
       "      <th>dip_deg</th>\n",
       "      <th>type</th>\n",
       "    </tr>\n",
       "  </thead>\n",
       "  <tbody>\n",
       "    <tr>\n",
       "      <th>0</th>\n",
       "      <td>1224.559944</td>\n",
       "      <td>174.87238</td>\n",
       "      <td>78.54814</td>\n",
       "      <td>Cond_FTCC</td>\n",
       "    </tr>\n",
       "    <tr>\n",
       "      <th>1</th>\n",
       "      <td>1224.830215</td>\n",
       "      <td>171.09971</td>\n",
       "      <td>71.07558</td>\n",
       "      <td>Cond_FTCC</td>\n",
       "    </tr>\n",
       "    <tr>\n",
       "      <th>2</th>\n",
       "      <td>1225.193391</td>\n",
       "      <td>170.17670</td>\n",
       "      <td>70.48370</td>\n",
       "      <td>Cond_FTCC</td>\n",
       "    </tr>\n",
       "    <tr>\n",
       "      <th>3</th>\n",
       "      <td>1225.535453</td>\n",
       "      <td>168.36274</td>\n",
       "      <td>69.19910</td>\n",
       "      <td>Cond_FTCC</td>\n",
       "    </tr>\n",
       "    <tr>\n",
       "      <th>4</th>\n",
       "      <td>1226.063326</td>\n",
       "      <td>174.29375</td>\n",
       "      <td>72.06275</td>\n",
       "      <td>Cond_FTCC</td>\n",
       "    </tr>\n",
       "  </tbody>\n",
       "</table>\n",
       "</div>"
      ],
      "text/plain": [
       "   depth_mMDRF  dipazimuth_deg   dip_deg       type\n",
       "0  1224.559944       174.87238  78.54814  Cond_FTCC\n",
       "1  1224.830215       171.09971  71.07558  Cond_FTCC\n",
       "2  1225.193391       170.17670  70.48370  Cond_FTCC\n",
       "3  1225.535453       168.36274  69.19910  Cond_FTCC\n",
       "4  1226.063326       174.29375  72.06275  Cond_FTCC"
      ]
     },
     "execution_count": 21,
     "metadata": {},
     "output_type": "execute_result"
    }
   ],
   "source": [
    "dffractures = pd.read_csv(r'testdata-fractures.csv')\n",
    "dffractures.head()"
   ]
  },
  {
   "cell_type": "markdown",
   "metadata": {},
   "source": [
    "## Example 1: Attribues are Unique\n",
    "\n",
    "Here I've created data using the dictionary method. If you have data in a csv, you can import these using the same method used for the fractures above. "
   ]
  },
  {
   "cell_type": "code",
   "execution_count": 22,
   "metadata": {},
   "outputs": [
    {
     "data": {
      "text/html": [
       "<div>\n",
       "<style scoped>\n",
       "    .dataframe tbody tr th:only-of-type {\n",
       "        vertical-align: middle;\n",
       "    }\n",
       "\n",
       "    .dataframe tbody tr th {\n",
       "        vertical-align: top;\n",
       "    }\n",
       "\n",
       "    .dataframe thead th {\n",
       "        text-align: right;\n",
       "    }\n",
       "</style>\n",
       "<table border=\"1\" class=\"dataframe\">\n",
       "  <thead>\n",
       "    <tr style=\"text-align: right;\">\n",
       "      <th></th>\n",
       "      <th>from</th>\n",
       "      <th>to</th>\n",
       "      <th>rocktype</th>\n",
       "    </tr>\n",
       "  </thead>\n",
       "  <tbody>\n",
       "    <tr>\n",
       "      <th>0</th>\n",
       "      <td>1219</td>\n",
       "      <td>1400</td>\n",
       "      <td>Some Rock</td>\n",
       "    </tr>\n",
       "    <tr>\n",
       "      <th>1</th>\n",
       "      <td>1400</td>\n",
       "      <td>1600</td>\n",
       "      <td>Exciting Rock</td>\n",
       "    </tr>\n",
       "    <tr>\n",
       "      <th>2</th>\n",
       "      <td>1600</td>\n",
       "      <td>2000</td>\n",
       "      <td>Another Rock</td>\n",
       "    </tr>\n",
       "    <tr>\n",
       "      <th>3</th>\n",
       "      <td>2000</td>\n",
       "      <td>2152</td>\n",
       "      <td>Almost Rock</td>\n",
       "    </tr>\n",
       "  </tbody>\n",
       "</table>\n",
       "</div>"
      ],
      "text/plain": [
       "   from    to       rocktype\n",
       "0  1219  1400      Some Rock\n",
       "1  1400  1600  Exciting Rock\n",
       "2  1600  2000   Another Rock\n",
       "3  2000  2152    Almost Rock"
      ]
     },
     "execution_count": 22,
     "metadata": {},
     "output_type": "execute_result"
    }
   ],
   "source": [
    "data = {\n",
    "        'from': [1219, 1400, 1600, 2000], \n",
    "        'to': [1400, 1600, 2000, 2152], \n",
    "        'rocktype': ['Some Rock', 'Exciting Rock', 'Another Rock', 'Almost Rock'],\n",
    "       }\n",
    "\n",
    "dfstrat = pd.DataFrame(data=data)\n",
    "dfstrat"
   ]
  },
  {
   "cell_type": "code",
   "execution_count": 23,
   "metadata": {},
   "outputs": [
    {
     "name": "stdout",
     "output_type": "stream",
     "text": [
      "[1219, 1400, 1600, 2000, 2152]\n"
     ]
    }
   ],
   "source": [
    "# call the unit tops to a list\n",
    "bins_strat = dfstrat['from'].to_list() \n",
    "# append the deepest value to the bins list\n",
    "bins_strat.append(dfstrat['to'].iloc[-1])\n",
    "print(bins_strat)"
   ]
  },
  {
   "cell_type": "code",
   "execution_count": 24,
   "metadata": {},
   "outputs": [
    {
     "name": "stdout",
     "output_type": "stream",
     "text": [
      "['Some Rock', 'Exciting Rock', 'Another Rock', 'Almost Rock']\n"
     ]
    }
   ],
   "source": [
    "# make a category list\n",
    "units_strat = dfstrat['rocktype'].to_list()\n",
    "print(units_strat)"
   ]
  },
  {
   "cell_type": "code",
   "execution_count": 25,
   "metadata": {},
   "outputs": [
    {
     "name": "stdout",
     "output_type": "stream",
     "text": [
      "Almost Rock      608\n",
      "Another Rock     349\n",
      "Some Rock         94\n",
      "Exciting Rock     91\n",
      "Name: Strat, dtype: int64 \n",
      "\n"
     ]
    },
    {
     "data": {
      "text/html": [
       "<div>\n",
       "<style scoped>\n",
       "    .dataframe tbody tr th:only-of-type {\n",
       "        vertical-align: middle;\n",
       "    }\n",
       "\n",
       "    .dataframe tbody tr th {\n",
       "        vertical-align: top;\n",
       "    }\n",
       "\n",
       "    .dataframe thead th {\n",
       "        text-align: right;\n",
       "    }\n",
       "</style>\n",
       "<table border=\"1\" class=\"dataframe\">\n",
       "  <thead>\n",
       "    <tr style=\"text-align: right;\">\n",
       "      <th></th>\n",
       "      <th>depth_mMDRF</th>\n",
       "      <th>dipazimuth_deg</th>\n",
       "      <th>dip_deg</th>\n",
       "      <th>type</th>\n",
       "      <th>Strat</th>\n",
       "    </tr>\n",
       "  </thead>\n",
       "  <tbody>\n",
       "    <tr>\n",
       "      <th>0</th>\n",
       "      <td>1224.559944</td>\n",
       "      <td>174.87238</td>\n",
       "      <td>78.54814</td>\n",
       "      <td>Cond_FTCC</td>\n",
       "      <td>Some Rock</td>\n",
       "    </tr>\n",
       "    <tr>\n",
       "      <th>1</th>\n",
       "      <td>1224.830215</td>\n",
       "      <td>171.09971</td>\n",
       "      <td>71.07558</td>\n",
       "      <td>Cond_FTCC</td>\n",
       "      <td>Some Rock</td>\n",
       "    </tr>\n",
       "    <tr>\n",
       "      <th>2</th>\n",
       "      <td>1225.193391</td>\n",
       "      <td>170.17670</td>\n",
       "      <td>70.48370</td>\n",
       "      <td>Cond_FTCC</td>\n",
       "      <td>Some Rock</td>\n",
       "    </tr>\n",
       "  </tbody>\n",
       "</table>\n",
       "</div>"
      ],
      "text/plain": [
       "   depth_mMDRF  dipazimuth_deg   dip_deg       type      Strat\n",
       "0  1224.559944       174.87238  78.54814  Cond_FTCC  Some Rock\n",
       "1  1224.830215       171.09971  71.07558  Cond_FTCC  Some Rock\n",
       "2  1225.193391       170.17670  70.48370  Cond_FTCC  Some Rock"
      ]
     },
     "execution_count": 25,
     "metadata": {},
     "output_type": "execute_result"
    }
   ],
   "source": [
    "# append strat units to the fracture dataframe based on depth\n",
    "dffractures['Strat'] = pd.cut(dffractures['depth_mMDRF'],\n",
    "                              bins_strat,\n",
    "                              labels=units_strat)\n",
    "\n",
    "print(dffractures['Strat'].value_counts(),'\\n')\n",
    "dffractures.head(3)"
   ]
  },
  {
   "cell_type": "markdown",
   "metadata": {},
   "source": [
    "## Example 2: Attributes are not unique"
   ]
  },
  {
   "cell_type": "code",
   "execution_count": 26,
   "metadata": {},
   "outputs": [
    {
     "data": {
      "text/html": [
       "<div>\n",
       "<style scoped>\n",
       "    .dataframe tbody tr th:only-of-type {\n",
       "        vertical-align: middle;\n",
       "    }\n",
       "\n",
       "    .dataframe tbody tr th {\n",
       "        vertical-align: top;\n",
       "    }\n",
       "\n",
       "    .dataframe thead th {\n",
       "        text-align: right;\n",
       "    }\n",
       "</style>\n",
       "<table border=\"1\" class=\"dataframe\">\n",
       "  <thead>\n",
       "    <tr style=\"text-align: right;\">\n",
       "      <th></th>\n",
       "      <th>from</th>\n",
       "      <th>to</th>\n",
       "      <th>rocktype</th>\n",
       "    </tr>\n",
       "  </thead>\n",
       "  <tbody>\n",
       "    <tr>\n",
       "      <th>0</th>\n",
       "      <td>1219</td>\n",
       "      <td>1400</td>\n",
       "      <td>Hard Rock</td>\n",
       "    </tr>\n",
       "    <tr>\n",
       "      <th>1</th>\n",
       "      <td>1400</td>\n",
       "      <td>1600</td>\n",
       "      <td>Soft Rock</td>\n",
       "    </tr>\n",
       "    <tr>\n",
       "      <th>2</th>\n",
       "      <td>1600</td>\n",
       "      <td>2000</td>\n",
       "      <td>Hard Rock</td>\n",
       "    </tr>\n",
       "    <tr>\n",
       "      <th>3</th>\n",
       "      <td>2000</td>\n",
       "      <td>2152</td>\n",
       "      <td>Alt Country</td>\n",
       "    </tr>\n",
       "  </tbody>\n",
       "</table>\n",
       "</div>"
      ],
      "text/plain": [
       "   from    to     rocktype\n",
       "0  1219  1400    Hard Rock\n",
       "1  1400  1600    Soft Rock\n",
       "2  1600  2000    Hard Rock\n",
       "3  2000  2152  Alt Country"
      ]
     },
     "execution_count": 26,
     "metadata": {},
     "output_type": "execute_result"
    }
   ],
   "source": [
    "data = {\n",
    "        'from': [1219, 1400, 1600, 2000], \n",
    "        'to': [1400, 1600, 2000, 2152], \n",
    "        'rocktype': ['Hard Rock', 'Soft Rock', 'Hard Rock', 'Alt Country'],\n",
    "       }\n",
    "\n",
    "dfstifness = pd.DataFrame(data=data)\n",
    "dfstifness"
   ]
  },
  {
   "cell_type": "code",
   "execution_count": null,
   "metadata": {},
   "outputs": [],
   "source": []
  }
 ],
 "metadata": {
  "kernelspec": {
   "display_name": "Python 3",
   "language": "python",
   "name": "python3"
  },
  "language_info": {
   "codemirror_mode": {
    "name": "ipython",
    "version": 3
   },
   "file_extension": ".py",
   "mimetype": "text/x-python",
   "name": "python",
   "nbconvert_exporter": "python",
   "pygments_lexer": "ipython3",
   "version": "3.7.7"
  }
 },
 "nbformat": 4,
 "nbformat_minor": 4
}
