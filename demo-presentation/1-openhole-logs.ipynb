{
 "cells": [
  {
   "cell_type": "markdown",
   "metadata": {},
   "source": [
    "# Openhole Logs in High-Temperature Geothermal Wells\n",
    "\n",
    "Openhole logs are run before the liner to measure properties of the formation and borehole wall.  \n",
    "\n",
    "<img src=\"images/wellsite.jpg\" alt=\"Drawing\" style=\"width: 300px;\"/> <img src=\"images/logging-truck-inside-data.jpg\" alt=\"Drawing\" style=\"width: 300px;\"/> <img src=\"images/tool-check.jpg\" alt=\"Drawing\" style=\"width: 300px;\"/> "
   ]
  },
  {
   "cell_type": "markdown",
   "metadata": {},
   "source": [
    "## Why acquire openhole logs?\n",
    "\n",
    "Much of what we know about the subsurface in a geothermal reservoir comes from analysing drill cuttings that are carried to surface by the drilling fluids. These tiny chips of hydrothermally altered rock travel for kilometres inside an annular space of varying width and often entrained in liquid with poor lifting capacity. So it's no surprise that samples may be mixed, difficult to interpret, or suffer from poor depth calibration.\n",
    "\n",
    "<img src=\"images/rocks-for-geologist-01.png\" alt=\"Drawing\" style=\"width: 400px;\"/>\n",
    "\n",
    "Depending on the magnitude of permeability encountered and the drilling system type (water, air-water mix, or air), cuttings and drilling fluids may disappear into the formation rather than returning to surface. \n",
    "\n",
    "<img src=\"images/rocks-for-geologist-02.png\" alt=\"Drawing\" style=\"width: 400px;\"/>\n",
    "\n",
    "Openhole logs can be used to depth correct the geologic sequence or reconstruct intervals with no returns using:\n",
    "- The variation of rock properties revealed by petrophysical logs (e.g., gamma, bulk resistivity, sonic, neutron density, etc: Wallis et al. 2012)\n",
    "- The rock textures captured by micro-resistivy imagers, which is especially useful in volcanic rocks and rocks where hydrothermal alteration obscures the original lithology (Halwera et al. 2013, Wallis et al. 2020) \n",
    "- Variation in acoustic amplitude detected by acoustic borehole imagers may resolve some lithological changes (Massiot et al. 2015) \n",
    "\n",
    "Although acquisition of borehole image logs have recently become more common-place in the geothermal industry, petrophysical logs are rarely acquired (aside from gamma which is often partnered with borehole imagers and some pressure - temperature - spinner tools). Petrophysical logs can be run in the same tool string as borehole imagers or as a separate run immediately following the imager. Therefore, there may be minimal additional cost over the cost of running a borehole imager, especally when the program as a whole is considered (i.e., procurement, mobilisation, rig time and interpretation). Petrophysical logs provide significant value to those who seek to accurately resolve the geologic sequence (Wallis et al. 2012) and quantify reservoir properties (Durán et al. 2019), so their use will likely also increase in the coming years. "
   ]
  },
  {
   "cell_type": "markdown",
   "metadata": {},
   "source": [
    "## Micro-resistivity imagers and factors that impact log quality\n",
    "\n",
    "Micro-resistivity imagers are pad-based tools that make contact with the borehole wall and generate an image made of stripes. The tool pictured below had just completed nearly 1000 m of logging in abrasive volcanic rock with a similar degree of pad-wear as caused by logging a sand-shale sequence.\n",
    "\n",
    "<img src=\"images/FMI-tool.jpg\" alt=\"Drawing\" style=\"width: 400px;\"/>\n",
    "\n",
    "Tools vary in terms of pad number and therefore circumferential borehole coverage. Large completion sizes or irregular pad spacing caused by tool centralisation issues will increase the whitespace in micro-resistity borehole images. This subsequently reduces azimuthal confidence of fractures picked and our ability to resolve geomechanical features like borehole breakout and tensile fractures. This means that, while micro-resistivity images provide invaluable textural information that enables us to further resolve lithological sequences, acoustic borehole images are more suited to geomechanical studies.\n",
    "\n",
    "Oversized or ovoid hole exasperates these coverage issues and, where pads lose contact with the borehole wall, it may lead to total image loss. However, micro-resistivity logs are less impacted by these conditions than acoustic logs because pads will maintain contact with the borehole wall in circumstances that would have already resulted in signal loss for an acoustic tool. Artefacts associated with sudden changes in logging speed and extreme resistivity contrast between mud and the borehole wall may also negatively impact readability of micro-resistivity images. Some of these artefacts can be improved during post-processing if the log software includes speed correction. Best practice is to quantify and plot image quality along with fracture data so as to discern the variation that is simply due to the image quality.  "
   ]
  },
  {
   "cell_type": "markdown",
   "metadata": {},
   "source": [
    "## Interpreting micro-resistivity images acquired in high-temperature, volcanic-hosted geothermal reservoirs\n",
    "\n",
    "Interpretation methodologies for micro-resistivity images acquired in low temperature sand-shale, carbonate and bedrock environments are well established. There are three additional factors that merit consideration when interpreting logs acquired in geothermal reservoirs: \n",
    "\n",
    "1. Thermal stress\n",
    "2. Hydrothermal alteration\n",
    "3. Textures of volcanic rocks\n",
    "\n",
    "<img src=\"images/log-images.png\" alt=\"Drawing\" style=\"width: 1200px;\"/>\n",
    "\n",
    "The figure above is adapted from Wallis et al. (2020). It illustrates a range of features recognised in micro-resistivity image logs acquired in a high-temperature geothermal reservoir. Note that relative electrical resistivity of the borehole wall is plotted from conductive (dark) to resistive (light): \n",
    "1. The azimuth of drilling induced tensile fractures rotate as the well passes through an an almost 1 m thick fault (brown arrow). \n",
    "2. En echelon drilling-induced tensile fractures interact with a drilling enhanced natural fracture (black arrow). \n",
    "3. Parallel, low-amplitude conductive (dark) sinusoids along andesite flow banding are likely to be only open at the borehole wall in response to thermally-amplified tensile hoop stress (i.e., are thermally induced fractures). \n",
    "4. Bright halos (e.g., dark brown arrow) indicate current accumulation around fractures filled with highly conductive minerals (e.g., pyrite) and, less commonly, disseminated alteration within particular geologic layers (blue arrow). \n",
    "5. A volcaniclastic unit that was not recognisable in cuttings because it is dominantly comprised of large (>20 cm) andesite clasts in fine grained, likely clay-rich, matrix."
   ]
  },
  {
   "cell_type": "code",
   "execution_count": 1,
   "metadata": {},
   "outputs": [],
   "source": [
    "# Thermal stress model example"
   ]
  },
  {
   "cell_type": "code",
   "execution_count": null,
   "metadata": {},
   "outputs": [],
   "source": []
  },
  {
   "cell_type": "markdown",
   "metadata": {},
   "source": [
    "## Acquiring 150-175degC rated openhole logs in high-temperature (>240degC) geothermal wells\n",
    "\n",
    "Most of the openhole logging technology was developed for Oil and Gas wells, so temperature ratings typically 150-175degC. There is acoustic imaging technology, such as the [Hades ABI tool](https://www.hadessystems.com/), that have a higher temperature rating and it is possible to flask standard tools to enable them to last longer at higher temperatures. However, standard temperature-rated tools can be run in high-temperature geothermal wells without flasking and in contact with the borehole walls under injection. But they are confined to the well interval above where the majority of injected fluid exists the borehole. Because the great pressure difference between the hot reservoir and the in-well hydrostatic head created by cool-water injection, this hold-up depth is typically above the deepest feedzone. If data acquisition is critical, then combined standard and high-temperature tool programs are ideal. This kind of approach is ideal for exploration programs where little is known about the nature of reservoir permeability.\n",
    "\n",
    "A pressure-temperature log can be acquired prior to running the openhole tools under the same injection conditions planned for the rest of the program. This provides confidence about the hold-up depth for the standard temperature-rated tools. Some openhole tools have surface read-out temperature sensors in-built or that can be added to the tool string. Alternatively, a mud resistivity sensor can be inverted for fluid temperature as a rough guide.   \n",
    "\n",
    "Open collaboration between all parties involved is the best approach to develop safe and effective operational procedures for openhole log programs in geothermal wells. This includes the service companies, the well-site crew and the geothermal operator's subsurface team (especially the resource geologist, drilling engineer and reservoir engineer). Engaging an Expert Witness who to the interests of the geothermal operator during planning and the execution of logging will ensure quality and completeness of the deliverables.\n",
    "\n",
    "\n",
    "<img src=\"images/teamwork.jpg\" alt=\"Drawing\" style=\"width: 400px;\"/>"
   ]
  },
  {
   "cell_type": "markdown",
   "metadata": {},
   "source": [
    "## Citations\n",
    "\n",
    "\n",
    "Durán, E. L., Adam, L., Wallis, I. C., and Barnhoorn, A., 2019b, Mineral alteration and fracture influence on the elastic properties of volcaniclastic rocks: Journal of Geophysical Research: Solid Earth.\n",
    "\n",
    "Halwa, L., Wallis, I. C., and Lozada, G. T., 2013, Geological analysis of the volcanic subsurface using borehole resistivity images in the Ngatamariki Geothermal Field, New Zealand, 35th New Zealand Geothermal Workshop: Rotorua.\n",
    "\n",
    "Massiot, C., McNamara, D. D., and Lewis, B., 2015, Processing and analysis of high temperature geothermal acoustic borehole image logs in the Taupo Volcanic Zone, New Zealand: Geothermics, v. 53, p. 190-201.\n",
    "\n",
    "Wallis, I., McCormick, S., Sewell, S. and Boseley, C., 2012, Formation assessment in geothermal using wireline tools – application and early results from the Ngatamariki Geothermal Field, New Zealand. Proceedings of the New Zealand Geothermal Workshop: Auckland, New Zealand.\n"
   ]
  },
  {
   "cell_type": "code",
   "execution_count": 2,
   "metadata": {},
   "outputs": [
    {
     "name": "stdout",
     "output_type": "stream",
     "text": [
      "author:\n",
      "Irene Wallis 2020-08-25\n",
      "\n",
      "\n",
      "requirements:\n",
      "CPython 3.7.7\n",
      "IPython 7.15.0\n",
      "\n",
      "watermark 2.0.2\n",
      "\n",
      "\n",
      "Git hash: 4ccf8c12d8d3d857474cd278fe0cee5e783a643b\n"
     ]
    }
   ],
   "source": [
    "%load_ext watermark\n",
    "print('author:')\n",
    "%watermark -a \"Irene Wallis\" -d\n",
    "print('\\n')\n",
    "print('requirements:')\n",
    "%watermark -v -p watermark \n",
    "print('\\n')\n",
    "%watermark -g"
   ]
  }
 ],
 "metadata": {
  "kernelspec": {
   "display_name": "Python 3",
   "language": "python",
   "name": "python3"
  },
  "language_info": {
   "codemirror_mode": {
    "name": "ipython",
    "version": 3
   },
   "file_extension": ".py",
   "mimetype": "text/x-python",
   "name": "python",
   "nbconvert_exporter": "python",
   "pygments_lexer": "ipython3",
   "version": "3.7.7"
  }
 },
 "nbformat": 4,
 "nbformat_minor": 4
}