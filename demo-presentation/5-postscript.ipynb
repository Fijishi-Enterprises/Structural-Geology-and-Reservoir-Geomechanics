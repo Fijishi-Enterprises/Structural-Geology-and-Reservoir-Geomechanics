{
 "cells": [
  {
   "cell_type": "markdown",
   "metadata": {},
   "source": [
    "# Postscript\n",
    "\n",
    "## Acknoldgements\n",
    "\n",
    "I would like to thank the companies who provided data for the research project in which much of fractoolbox code has been developed: Supreme Energy, Mercury, and Contact Energy. This project has benefited from the experience and willingness to collaborate demonstrated by company and rig-site staff, wireline engineers, and log analysts who acquired and processed raw data. Thank you. "
   ]
  },
  {
   "cell_type": "markdown",
   "metadata": {},
   "source": [
    "## Author contact details\n",
    "\n",
    "Irene Wallis\n",
    "\n",
    "Consultant to geothermal developers, governance organisations, and research institutions who is conducting doctoral research at the University of Auckland, New Zealand\n",
    "\n",
    "www.cubicearth.nz"
   ]
  },
  {
   "cell_type": "code",
   "execution_count": 1,
   "metadata": {},
   "outputs": [
    {
     "name": "stdout",
     "output_type": "stream",
     "text": [
      "author:\n",
      "Irene Wallis 2020-08-25\n",
      "\n",
      "\n",
      "requirements:\n",
      "CPython 3.7.7\n",
      "IPython 7.15.0\n",
      "\n",
      "watermark 2.0.2\n",
      "\n",
      "\n",
      "Git hash: 1ffa4cecb76a65396a06f285398f0755633784c3\n"
     ]
    }
   ],
   "source": [
    "%load_ext watermark\n",
    "print('author:')\n",
    "%watermark -a \"Irene Wallis\" -d\n",
    "print('\\n')\n",
    "print('requirements:')\n",
    "%watermark -v -p watermark\n",
    "print('\\n')\n",
    "%watermark -g"
   ]
  },
  {
   "cell_type": "code",
   "execution_count": null,
   "metadata": {},
   "outputs": [],
   "source": []
  }
 ],
 "metadata": {
  "kernelspec": {
   "display_name": "Python 3",
   "language": "python",
   "name": "python3"
  },
  "language_info": {
   "codemirror_mode": {
    "name": "ipython",
    "version": 3
   },
   "file_extension": ".py",
   "mimetype": "text/x-python",
   "name": "python",
   "nbconvert_exporter": "python",
   "pygments_lexer": "ipython3",
   "version": "3.7.7"
  }
 },
 "nbformat": 4,
 "nbformat_minor": 4
}
