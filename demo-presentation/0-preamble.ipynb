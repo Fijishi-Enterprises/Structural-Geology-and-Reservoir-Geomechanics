{
 "cells": [
  {
   "cell_type": "markdown",
   "metadata": {},
   "source": [
    "# Preamble"
   ]
  },
  {
   "cell_type": "code",
   "execution_count": null,
   "metadata": {},
   "outputs": [],
   "source": []
  },
  {
   "cell_type": "code",
   "execution_count": null,
   "metadata": {},
   "outputs": [],
   "source": []
  },
  {
   "cell_type": "code",
   "execution_count": null,
   "metadata": {},
   "outputs": [],
   "source": []
  },
  {
   "cell_type": "code",
   "execution_count": 2,
   "metadata": {},
   "outputs": [
    {
     "name": "stdout",
     "output_type": "stream",
     "text": [
      "The watermark extension is already loaded. To reload it, use:\n",
      "  %reload_ext watermark\n",
      "author:\n",
      "Irene Wallis 2020-08-25\n",
      "\n",
      "\n",
      "requirements:\n",
      "CPython 3.7.7\n",
      "IPython 7.15.0\n",
      "\n",
      "watermark 2.0.2\n",
      "\n",
      "\n",
      "Git hash: 017841c8bc7c0a2f3c2bfddc33076dbfbc27ec1f\n"
     ]
    }
   ],
   "source": [
    "%load_ext watermark\n",
    "print('author:')\n",
    "%watermark -a \"Irene Wallis\" -d\n",
    "print('\\n')\n",
    "print('requirements:')\n",
    "%watermark -v -p watermark \n",
    "print('\\n')\n",
    "%watermark -g"
   ]
  },
  {
   "cell_type": "code",
   "execution_count": null,
   "metadata": {},
   "outputs": [],
   "source": []
  }
 ],
 "metadata": {
  "kernelspec": {
   "display_name": "Python 3",
   "language": "python",
   "name": "python3"
  },
  "language_info": {
   "codemirror_mode": {
    "name": "ipython",
    "version": 3
   },
   "file_extension": ".py",
   "mimetype": "text/x-python",
   "name": "python",
   "nbconvert_exporter": "python",
   "pygments_lexer": "ipython3",
   "version": "3.7.7"
  }
 },
 "nbformat": 4,
 "nbformat_minor": 4
}
