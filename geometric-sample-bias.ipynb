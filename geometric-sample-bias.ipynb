{
 "metadata": {
  "language_info": {
   "codemirror_mode": {
    "name": "ipython",
    "version": 3
   },
   "file_extension": ".py",
   "mimetype": "text/x-python",
   "name": "python",
   "nbconvert_exporter": "python",
   "pygments_lexer": "ipython3",
   "version": 3
  },
  "orig_nbformat": 2
 },
 "nbformat": 4,
 "nbformat_minor": 2,
 "cells": [
  {
   "cell_type": "markdown",
   "metadata": {},
   "source": [
    "# Geometric Sample Bias\n",
    "\n",
    "Seminal work by Terzaghi (1965) revealed a geometric bias generated \n",
    "by sampling a three-dimensional fracture network with a line. \n",
    "Simply put, fractures planes that are perpendicular to the line are \n",
    "very likely to be intersected whereas those parallel to the line are \n",
    "almost never intersected. This geometric sample bias generates a 'blind\n",
    "zone' in fracture datasets where those which are near-parallel to the\n",
    "scan-line or well-path are rarely sampled. This blind zone is \n",
    "sometimes also referred to as the 'well shadow'.\n",
    "\n",
    "Terzaghi (1965) proposed a methodology quantifies the geometric sample \n",
    "bias using the acute angle (alpha) between the fracture plane and \n",
    "the line. Visualising the blind zone (where sin(alpha) +/- 0.3) and \n",
    "contours of sample bias (isogenic contours) on a stereonet enables\n",
    "us to visually evaluate the degree that geometric sample bias in \n",
    "affects a fracture dataset.  \n",
    "\n",
    "A weighting may be applied based on the alpha angle which may correct\n",
    "the sampled fracture population to something more reflective of actual\n",
    "frequency. This kind of correction is common-place in modern image log\n",
    "analysis and some form of the Terzaghi correction comes baked into \n",
    "most log analysis software. However, there are two key issues with these\n",
    "corrections:\n",
    "\n",
    "-   Correction may mislead interpretation by emphasising solitary \n",
    "    fractures that are not part of some significant but under-sampled \n",
    "    population, especially where the weighting factor approaches \n",
    "    infinity near sin α = 0. Priest (1993) recommends resolving this \n",
    "    by using an upper limit of sin α = 0.1 when weighting.\n",
    "\n",
    "-   Correction can only be applied to those fractures which were sampled\n",
    "    and therefore does a poor job of correcting in the blind zone where\n",
    "    fractures are rarely sampled.\n",
    "\n",
    "fractoolbox includes functions that (1) weight fracture populations to \n",
    "reduce the impact of geometric sample bias and (2) construct isogenic \n",
    "contours for stereonets so the effect of sample bias and the blind \n",
    "zone are visible to the interpreter. The code in this notebook illustrates\n",
    "how these functions are strung together in the process of analysing \n",
    "fracture data picked from a borehole image log.  \n",
    "\n",
    "Refer to Wallis et al. (2020)\n",
    "for examples of these methods as applied micro-resistivity image \n",
    "logs acquired in seven high-temperature geothermal wells.\n",
    "\n",
    "Terzaghi, R. D., 1965, Sources of error in joint surveys: Geotechnique, \n",
    "    v. 15, no. 3, p. 287-304.\n",
    "\n",
    "Wallis, I.C., Rowland, J. V. and Dempsey, D. E., Allan, G., Sidik, R., \n",
    "    Martikno, R., McLean, K., Sihotang, M., Azis, M. and Baroek, M. \n",
    "    2020 (submitted) Approaches to imaging feedzone diversity with \n",
    "    case studies from Sumatra, Indonesia, and the Taupō Volcanic Zone, \n",
    "    New Zealand. New Zealand Geothermal Workshop: Waitangi, New Zealand."
   ]
  },
  {
   "cell_type": "code",
   "execution_count": null,
   "metadata": {},
   "outputs": [],
   "source": []
  }
 ]
}